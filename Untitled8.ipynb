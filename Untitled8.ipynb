{
  "cells": [
    {
      "cell_type": "markdown",
      "metadata": {
        "id": "view-in-github",
        "colab_type": "text"
      },
      "source": [
        "<a href=\"https://colab.research.google.com/github/Meilianum/streamlit_py/blob/main/Untitled8.ipynb\" target=\"_parent\"><img src=\"https://colab.research.google.com/assets/colab-badge.svg\" alt=\"Open In Colab\"/></a>"
      ]
    },
    {
      "cell_type": "code",
      "execution_count": null,
      "metadata": {
        "id": "EYQ6h3B3hPVP"
      },
      "outputs": [],
      "source": []
    },
    {
      "cell_type": "markdown",
      "metadata": {
        "id": "otW91i3PiOoG"
      },
      "source": [
        "## **Python Assignment List Tuples and methods**\n",
        "# **`*Basic List Operations*`**\n",
        "# New Section"
      ]
    },
    {
      "cell_type": "code",
      "execution_count": null,
      "metadata": {
        "colab": {
          "base_uri": "https://localhost:8080/"
        },
        "id": "x-ISj_YnihH1",
        "outputId": "b601187f-6c01-4cf8-d8af-e6c9b5b1dfbd"
      },
      "outputs": [
        {
          "name": "stdout",
          "output_type": "stream",
          "text": [
            "[1, 2, 3, 4, 5, 6]\n"
          ]
        }
      ],
      "source": [
        "List_of_Number = [1,2,3]\n",
        "List_of_Number.extend([4,5,6])\n",
        "print(List_of_Number)"
      ]
    },
    {
      "cell_type": "markdown",
      "metadata": {
        "id": "SdBhHxTqkqY9"
      },
      "source": [
        "# ***Question 3***\n",
        "insert the string \"Python\" at index 2 in the list [\"Java\", \"C++\", \"JavaScript\",\n",
        "\"Ruby\"].\n"
      ]
    },
    {
      "cell_type": "code",
      "execution_count": null,
      "metadata": {
        "colab": {
          "base_uri": "https://localhost:8080/"
        },
        "id": "1-l2rUkMk24R",
        "outputId": "19aeccae-bc78-4e09-86ff-489afe435dc2"
      },
      "outputs": [
        {
          "name": "stdout",
          "output_type": "stream",
          "text": [
            "['Java', 'C++', 'python', 'JavaScript', 'Ruby']\n"
          ]
        }
      ],
      "source": [
        "languages =  [\"Java\", \"C++\", \"JavaScript\", \"Ruby\"]\n",
        "languages.insert(2, \"python\")\n",
        "print(languages)"
      ]
    },
    {
      "cell_type": "markdown",
      "metadata": {
        "id": "qn4QT-Hyl0iT"
      },
      "source": [
        "# ***Question-4***\n",
        "4. Remove the first occurrence of the number 10 from the list [10, 20, 30, 10, 40]"
      ]
    },
    {
      "cell_type": "code",
      "execution_count": null,
      "metadata": {
        "colab": {
          "base_uri": "https://localhost:8080/"
        },
        "id": "4SmGSXErmKbD",
        "outputId": "7cfc29f5-50f5-46e9-ac02-6acc48a1c6bb"
      },
      "outputs": [
        {
          "name": "stdout",
          "output_type": "stream",
          "text": [
            "[20, 30, 10.4]\n"
          ]
        }
      ],
      "source": [
        "Number =[10,20,30,10.40]\n",
        "Number.remove(10)\n",
        "print(Number)"
      ]
    },
    {
      "cell_type": "markdown",
      "metadata": {
        "id": "mFp9rsntmqlW"
      },
      "source": [
        "# ***Question 5***"
      ]
    },
    {
      "cell_type": "code",
      "execution_count": null,
      "metadata": {
        "colab": {
          "base_uri": "https://localhost:8080/"
        },
        "id": "oPQHnZYOmxDh",
        "outputId": "f9d37261-5371-4ea2-bc92-4a5043bc0784"
      },
      "outputs": [
        {
          "name": "stdout",
          "output_type": "stream",
          "text": [
            "[100, 200, 300]\n"
          ]
        }
      ],
      "source": [
        "numbers = [100, 200, 300, 400]\n",
        "numbers.pop()\n",
        "print(numbers)\n"
      ]
    },
    {
      "cell_type": "markdown",
      "metadata": {
        "id": "g6CvvJzXokoU"
      },
      "source": [
        "# ***Intermediate List Operations***"
      ]
    },
    {
      "cell_type": "markdown",
      "metadata": {
        "id": "ytMf8i4xoqD4"
      },
      "source": [
        "# ***Question 6***"
      ]
    },
    {
      "cell_type": "markdown",
      "metadata": {
        "id": "yLvSPfFXop_0"
      },
      "source": []
    },
    {
      "cell_type": "code",
      "execution_count": null,
      "metadata": {
        "colab": {
          "base_uri": "https://localhost:8080/"
        },
        "id": "1DjVYYAZo9KS",
        "outputId": "73d69231-80ae-44e1-8971-bfe15ec3ca96"
      },
      "outputs": [
        {
          "name": "stdout",
          "output_type": "stream",
          "text": [
            "3\n"
          ]
        }
      ],
      "source": [
        "num_of_list= [5, 10, 5, 20, 5, 30]\n",
        "count_of_5 =num_of_list.count(5)\n",
        "print(count_of_5)"
      ]
    },
    {
      "cell_type": "code",
      "execution_count": null,
      "metadata": {
        "colab": {
          "base_uri": "https://localhost:8080/"
        },
        "id": "CF5hu4TMo_W3",
        "outputId": "827664a8-f6af-4cb6-ff2f-19299e3e1969"
      },
      "outputs": [
        {
          "name": "stdout",
          "output_type": "stream",
          "text": [
            "[1, 3, 5, 8, 9]\n"
          ]
        }
      ],
      "source": [
        "number = [9, 1, 8, 3, 5]\n",
        "number.sort()\n",
        "\n",
        "print(number)"
      ]
    },
    {
      "cell_type": "code",
      "execution_count": null,
      "metadata": {
        "colab": {
          "base_uri": "https://localhost:8080/"
        },
        "id": "77oAZtrupBrx",
        "outputId": "75f5905c-05ec-42eb-901b-5782ab6c57ae"
      },
      "outputs": [
        {
          "name": "stdout",
          "output_type": "stream",
          "text": [
            "[9, 1, 8, 3, 5]\n"
          ]
        }
      ],
      "source": [
        "number = [9, 1, 8, 3, 5]\n",
        "numbers.sort(reverse=True)\n",
        "print(number)"
      ]
    },
    {
      "cell_type": "markdown",
      "metadata": {
        "id": "NL9cJX0lrc1n"
      },
      "source": [
        "## ***Qustion 8***"
      ]
    },
    {
      "cell_type": "code",
      "execution_count": null,
      "metadata": {
        "colab": {
          "base_uri": "https://localhost:8080/"
        },
        "id": "aOCTVH86r_aa",
        "outputId": "7293950c-5677-4c48-f9c1-8099906a5ca6"
      },
      "outputs": [
        {
          "name": "stdout",
          "output_type": "stream",
          "text": [
            "['cherry', 'banana', 'apple']\n"
          ]
        }
      ],
      "source": [
        "furits_nume = ['apple', 'banana', 'cherry']\n",
        "furits_nume.reverse()\n",
        "print(furits_nume)"
      ]
    },
    {
      "cell_type": "markdown",
      "metadata": {
        "id": "uG2kPOCktCMg"
      },
      "source": [
        "# ***Question 9***"
      ]
    },
    {
      "cell_type": "code",
      "execution_count": null,
      "metadata": {
        "colab": {
          "base_uri": "https://localhost:8080/"
        },
        "id": "TuakppibtHTo",
        "outputId": "aeb6a2e6-4add-4d5c-d332-76436f8354e6"
      },
      "outputs": [
        {
          "name": "stdout",
          "output_type": "stream",
          "text": [
            "Original List: [1, 2, 3, 4, 5]\n",
            "Copied List: [1, 2, 3, 4, 5, 6]\n"
          ]
        }
      ],
      "source": [
        "original_list = [1, 2, 3, 4, 5]\n",
        "\n",
        "# Create a copy using copy() method\n",
        "copied_list = original_list.copy()\n",
        "\n",
        "# Alternatively, you can use slicing to create a copy\n",
        "# copied_list = original_list[:]\n",
        "\n",
        "# Modify the copied list\n",
        "copied_list.append(6)\n",
        "\n",
        "# Print both lists\n",
        "print(\"Original List:\", original_list)\n",
        "print(\"Copied List:\", copied_list)\n"
      ]
    },
    {
      "cell_type": "markdown",
      "metadata": {
        "id": "rmM9mzGztWHg"
      },
      "source": [
        "# Question 10"
      ]
    },
    {
      "cell_type": "code",
      "execution_count": null,
      "metadata": {
        "colab": {
          "base_uri": "https://localhost:8080/"
        },
        "id": "lJbUK3Nztaqk",
        "outputId": "6825b1ca-5213-46a8-c890-bda4633125e9"
      },
      "outputs": [
        {
          "name": "stdout",
          "output_type": "stream",
          "text": [
            "[]\n"
          ]
        }
      ],
      "source": [
        "Element_list = ['hello', 'world', 'python']\n",
        "Element_list.clear()\n",
        "print(Element_list)"
      ]
    },
    {
      "cell_type": "markdown",
      "metadata": {
        "id": "9zmRIQcnuJf8"
      },
      "source": [
        "# ***Tuple-Based Questions***\n",
        "# ***part of 2 of Tuples***"
      ]
    },
    {
      "cell_type": "code",
      "execution_count": null,
      "metadata": {
        "colab": {
          "base_uri": "https://localhost:8080/"
        },
        "id": "oCLK0hd-uY2C",
        "outputId": "6c030800-7f9e-4546-b900-617568e8444e"
      },
      "outputs": [
        {
          "name": "stdout",
          "output_type": "stream",
          "text": [
            "Graphes\n",
            "Total number of fruits: 5\n"
          ]
        }
      ],
      "source": [
        "furits_nume = ('apple', 'Mango', 'Graphes', 'Orange', 'PinApple')\n",
        "\n",
        "# Count the number of elements in the tuple (using len())\n",
        "count_of_fruits = len(furits_nume)\n",
        "print(furits_nume[2])  # Print the third fruit\n",
        "\n",
        "# Optionally, print the count of fruits\n",
        "print(\"Total number of fruits:\", count_of_fruits)\n"
      ]
    },
    {
      "cell_type": "markdown",
      "metadata": {
        "id": "9E_SG0mnwwI0"
      },
      "source": [
        "# **Question 12**"
      ]
    },
    {
      "cell_type": "code",
      "execution_count": 55,
      "metadata": {
        "colab": {
          "base_uri": "https://localhost:8080/"
        },
        "id": "icPQ_iU9w38g",
        "outputId": "7dbcf21d-cadb-437e-d1dd-a1c92d1ee7ed"
      },
      "outputs": [
        {
          "output_type": "stream",
          "name": "stdout",
          "text": [
            "(10, 20, 40, 50)\n"
          ]
        }
      ],
      "source": [
        "\n",
        "my_tuples = (10, 20, 30, 40, 50)\n",
        "\n",
        "\n",
        "my_list = list(my_tuples)\n",
        "\n",
        "my_list.remove(30)\n",
        "\n",
        "\n",
        "my_tuples = tuple(my_list)\n",
        "\n",
        "\n",
        "print(my_tuples)\n"
      ]
    },
    {
      "cell_type": "markdown",
      "source": [
        "# ***Question 13***"
      ],
      "metadata": {
        "id": "pmL60PZYZ1gU"
      }
    },
    {
      "cell_type": "code",
      "source": [
        "my_tuples = ('A','B', 'c')\n",
        "my_list = list(my_tuples)\n",
        "my_list.append('D')\n",
        "my_tuples = tuple(my_list)\n",
        "print(my_tuples)"
      ],
      "metadata": {
        "colab": {
          "base_uri": "https://localhost:8080/"
        },
        "id": "LL_uMUMfaSra",
        "outputId": "7d7fc600-a602-4179-db21-f6d0c1b5d847"
      },
      "execution_count": 58,
      "outputs": [
        {
          "output_type": "stream",
          "name": "stdout",
          "text": [
            "('A', 'B', 'c', 'D')\n"
          ]
        }
      ]
    },
    {
      "cell_type": "markdown",
      "source": [
        "# ***Question 14***"
      ],
      "metadata": {
        "id": "PhoLoAb2bqX4"
      }
    },
    {
      "cell_type": "code",
      "source": [
        "my_list_number =(100, 200, 300)\n",
        "a,b,c = my_list_number\n",
        "print(a)\n",
        "print(b)\n",
        "print (c)\n",
        ""
      ],
      "metadata": {
        "colab": {
          "base_uri": "https://localhost:8080/"
        },
        "id": "HIzRCNq4b0qv",
        "outputId": "6a32420d-9582-49d7-9609-b7c9ebddfde7"
      },
      "execution_count": 59,
      "outputs": [
        {
          "output_type": "stream",
          "name": "stdout",
          "text": [
            "100\n",
            "200\n",
            "300\n"
          ]
        }
      ]
    },
    {
      "cell_type": "markdown",
      "source": [
        "# ***Question 15***\n"
      ],
      "metadata": {
        "id": "4w-abBxycXyr"
      }
    },
    {
      "cell_type": "code",
      "source": [
        " my_Num = (7, 1, 7, 3, 7, 5)\n",
        " count_7 = my_Num.count(7)\n",
        " print(count_7)\n"
      ],
      "metadata": {
        "colab": {
          "base_uri": "https://localhost:8080/"
        },
        "id": "MVc9HDDBcmO5",
        "outputId": "d0301823-be54-4201-ab10-f525846aa398"
      },
      "execution_count": 60,
      "outputs": [
        {
          "output_type": "stream",
          "name": "stdout",
          "text": [
            "3\n"
          ]
        }
      ]
    },
    {
      "cell_type": "markdown",
      "source": [
        "# ***Question 17***\n",
        "# ***Advanced Problems***"
      ],
      "metadata": {
        "id": "QGGlnZANc6sS"
      }
    },
    {
      "cell_type": "code",
      "source": [
        "def sort_descending(arr):\n",
        "\n",
        "    n = len(arr)\n",
        "\n",
        "\n",
        "    for i in range(n):\n",
        "\n",
        "        max_index = i\n",
        "        for j in range(i + 1, n):\n",
        "            if arr[j] > arr[max_index]:\n",
        "                max_index = j\n",
        "\n",
        "\n",
        "        arr[i], arr[max_index] = arr[max_index], arr[i]\n",
        "\n",
        "    return arr\n",
        "\n",
        "\n",
        "example_list = [12, 45, 2, 67, 34]\n",
        "sorted_list = sort_descending(example_list)\n",
        "print(sorted_list)\n",
        "\n"
      ],
      "metadata": {
        "colab": {
          "base_uri": "https://localhost:8080/"
        },
        "id": "Vri4qKm6dK3E",
        "outputId": "e8e80a73-2efd-43af-ef6a-2c25bf9f4a9d"
      },
      "execution_count": 72,
      "outputs": [
        {
          "output_type": "stream",
          "name": "stdout",
          "text": [
            "[67, 45, 34, 12, 2]\n"
          ]
        }
      ]
    },
    {
      "cell_type": "markdown",
      "source": [
        "# **Question 16**"
      ],
      "metadata": {
        "id": "KfdSNIbUfGwj"
      }
    },
    {
      "cell_type": "code",
      "source": [
        "def remove_even_numbers(input_list):\n",
        "    return [num for num in input_list if num % 2 != 0]\n",
        "\n",
        "numbers = [1, 2, 3, 4, 5, 6, 7, 8]\n",
        "result = remove_even_numbers(numbers)\n",
        "print(result)\n",
        "\n",
        "\n",
        "\n"
      ],
      "metadata": {
        "colab": {
          "base_uri": "https://localhost:8080/"
        },
        "id": "N7YNj0oyfL26",
        "outputId": "1d8e6ec0-de6a-4764-ca52-dc5158011625"
      },
      "execution_count": 75,
      "outputs": [
        {
          "output_type": "stream",
          "name": "stdout",
          "text": [
            "[1, 3, 5, 7]\n"
          ]
        }
      ]
    },
    {
      "cell_type": "code",
      "source": [],
      "metadata": {
        "id": "UnKEFNsTc_FM"
      },
      "execution_count": 75,
      "outputs": []
    },
    {
      "cell_type": "markdown",
      "source": [
        "# *Question 18*"
      ],
      "metadata": {
        "id": "SDlHkDBEioLD"
      }
    },
    {
      "cell_type": "code",
      "source": [
        "def remove_duplicates(input_list):\n",
        "\n",
        "    unique_elements = list(set(input_list))\n",
        "    return unique_elements\n",
        "\n",
        "\n",
        "numbers = [1, 2, 3, 4, 5, 2, 3, 6, 1]\n",
        "result = remove_duplicates(numbers)\n",
        "\n",
        "\n",
        "print(result)\n"
      ],
      "metadata": {
        "colab": {
          "base_uri": "https://localhost:8080/"
        },
        "id": "o8pYZEMrivZn",
        "outputId": "01b8f184-7e20-4720-8fd3-6bccef68f801"
      },
      "execution_count": 76,
      "outputs": [
        {
          "output_type": "stream",
          "name": "stdout",
          "text": [
            "[1, 2, 3, 4, 5, 6]\n"
          ]
        }
      ]
    },
    {
      "cell_type": "markdown",
      "source": [
        "# ***Question 19***"
      ],
      "metadata": {
        "id": "gQPWBl5qi90K"
      }
    },
    {
      "cell_type": "code",
      "source": [
        "def remove_duplicates_from_tuple(input_tuple):\n",
        "\n",
        "    temp_list = list(input_tuple)\n",
        "\n",
        "    unique_set = set(temp_list)\n",
        "\n",
        "    return tuple(unique_set)\n",
        "\n",
        "\n",
        "names = (\"Alice\", \"Bob\", \"Charlie\", \"Alice\", \"David\")\n",
        "\n",
        "result = remove_duplicates_from_tuple(names)\n",
        "\n",
        "\n",
        "print(result)\n"
      ],
      "metadata": {
        "colab": {
          "base_uri": "https://localhost:8080/"
        },
        "id": "zuWsPbwOjC4j",
        "outputId": "7ee8a3db-7c08-4e8b-f597-1396357452fe"
      },
      "execution_count": 78,
      "outputs": [
        {
          "output_type": "stream",
          "name": "stdout",
          "text": [
            "('Bob', 'David', 'Alice', 'Charlie')\n"
          ]
        }
      ]
    },
    {
      "cell_type": "markdown",
      "source": [
        "# ***Question 20***"
      ],
      "metadata": {
        "id": "yAPRBTEFkrYE"
      }
    },
    {
      "cell_type": "code",
      "source": [
        "def separate_data_types(mixed_list):\n",
        "\n",
        "    integers = []\n",
        "    strings = []\n",
        "    floats = []\n",
        "\n",
        "\n",
        "    for item in mixed_list:\n",
        "        if isinstance(item, int):\n",
        "            integers.append(item)\n",
        "        elif isinstance(item, str):\n",
        "            strings.append(item)\n",
        "        elif isinstance(item, float):\n",
        "            floats.append(item)\n",
        "\n",
        "    return integers, strings, floats\n",
        "\n",
        "mixed_list = [1, \"hello\", 3.14, 42, \"world\", 2.71, \"python\"]\n",
        "\n",
        "\n",
        "integers, strings, floats = separate_data_types(mixed_list)\n",
        "\n",
        "\n",
        "print(\"Integers:\", integers)\n",
        "print(\"Strings:\", strings)\n",
        "print(\"Floats:\", floats)\n"
      ],
      "metadata": {
        "colab": {
          "base_uri": "https://localhost:8080/"
        },
        "id": "cXIpf6lSkwPk",
        "outputId": "9e227cf1-feb1-4aba-e1ca-728a8bdf4b61"
      },
      "execution_count": 79,
      "outputs": [
        {
          "output_type": "stream",
          "name": "stdout",
          "text": [
            "Integers: [1, 42]\n",
            "Strings: ['hello', 'world', 'python']\n",
            "Floats: [3.14, 2.71]\n"
          ]
        }
      ]
    },
    {
      "cell_type": "markdown",
      "source": [
        "# I have successfully done my third assignment"
      ],
      "metadata": {
        "id": "HckkSY_7lhJ5"
      }
    },
    {
      "cell_type": "markdown",
      "source": [],
      "metadata": {
        "id": "9XRxHHg1ewy9"
      }
    }
  ],
  "metadata": {
    "colab": {
      "provenance": [],
      "authorship_tag": "ABX9TyNicBhVwvfIUtTRPRbcbJu/",
      "include_colab_link": true
    },
    "kernelspec": {
      "display_name": "Python 3",
      "name": "python3"
    },
    "language_info": {
      "name": "python"
    }
  },
  "nbformat": 4,
  "nbformat_minor": 0
}